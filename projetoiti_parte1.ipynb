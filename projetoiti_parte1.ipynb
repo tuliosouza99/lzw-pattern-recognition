{
 "cells": [
  {
   "cell_type": "markdown",
   "metadata": {},
   "source": [
    "# **Parte 1 do Projeto de Introdução à Teoria da Informação**\n",
    "\n",
    "* Caio Vinícius Alves Lima - 20180000149\n",
    "* Túlio Emanuel Santana de Souza - 20180003964"
   ]
  },
  {
   "cell_type": "code",
   "execution_count": 1,
   "metadata": {},
   "outputs": [],
   "source": [
    "from lzw import compress, decompress\n",
    "K = 12"
   ]
  },
  {
   "cell_type": "code",
   "execution_count": 3,
   "metadata": {},
   "outputs": [
    {
     "name": "stdout",
     "output_type": "stream",
     "text": [
      "Comprimindo a mensagem...\n",
      "Mensagem comprimida com sucesso!\n",
      "Salvando arquivo comprimido...\n",
      "Arquivo comprimido salvo com sucesso!\n",
      "Tamanho do Dicionário: 4096\n",
      "Lendo arquivo comprimido...\n",
      "Arquivo comprimido lido com sucesso!\n",
      "Descomprimindo a mensagem...\n",
      "Mensagem descomprimida com sucesso!\n"
     ]
    }
   ],
   "source": [
    "compress(\n",
    "    file_path=\"datasets/parte1/corpus16MB.txt\",\n",
    "    k=K,\n",
    "    dictionary={},\n",
    "    out_path=f\"datasets/parte1/{K}/corpus16MB_compressed.txt\",\n",
    ")\n",
    "\n",
    "decompress(\n",
    "    f\"datasets/parte1/{K}/corpus16MB_compressed.txt\",\n",
    "    K,\n",
    "    f\"datasets/parte1/{K}/corpus16MB_decompressed.txt\",\n",
    ")\n"
   ]
  },
  {
   "cell_type": "code",
   "execution_count": 4,
   "metadata": {},
   "outputs": [
    {
     "name": "stdout",
     "output_type": "stream",
     "text": [
      "Comprimindo a mensagem...\n",
      "Mensagem comprimida com sucesso!\n",
      "Salvando arquivo comprimido...\n",
      "Arquivo comprimido salvo com sucesso!\n",
      "Tamanho do Dicionário: 4096\n",
      "Lendo arquivo comprimido...\n",
      "Arquivo comprimido lido com sucesso!\n",
      "Descomprimindo a mensagem...\n",
      "Mensagem descomprimida com sucesso!\n"
     ]
    }
   ],
   "source": [
    "compress(\n",
    "    file_path=\"datasets/parte1/disco.mp4\",\n",
    "    k=K,\n",
    "    dictionary={},\n",
    "    out_path=f\"datasets/parte1/{K}/disco_compressed.mp4\",\n",
    ")\n",
    "decompress(\n",
    "    f\"datasets/parte1/{K}/disco_compressed.mp4\",\n",
    "    K,\n",
    "    f\"datasets/parte1/{K}/disco_decompressed.mp4\",\n",
    ")\n"
   ]
  },
  {
   "cell_type": "code",
   "execution_count": null,
   "metadata": {},
   "outputs": [],
   "source": []
  }
 ],
 "metadata": {
  "kernelspec": {
   "display_name": "Python 3.9.12 ('base')",
   "language": "python",
   "name": "python3"
  },
  "language_info": {
   "codemirror_mode": {
    "name": "ipython",
    "version": 3
   },
   "file_extension": ".py",
   "mimetype": "text/x-python",
   "name": "python",
   "nbconvert_exporter": "python",
   "pygments_lexer": "ipython3",
   "version": "3.9.12"
  },
  "orig_nbformat": 4,
  "vscode": {
   "interpreter": {
    "hash": "3c18da20efb11c05561574d426d8ca0ef55854265c547218c140a1a5aaf51fed"
   }
  }
 },
 "nbformat": 4,
 "nbformat_minor": 2
}
