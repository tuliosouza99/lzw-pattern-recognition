{
 "cells": [
  {
   "cell_type": "code",
   "execution_count": 14,
   "metadata": {},
   "outputs": [],
   "source": [
    "import os\n",
    "import pickle\n",
    "import time\n",
    "from glob import glob\n",
    "from tqdm import tqdm\n",
    "\n",
    "import pandas as pd\n",
    "import matplotlib.pyplot as plt\n",
    "from sklearn.metrics import accuracy_score\n",
    "\n",
    "from lzw import compress\n",
    "\n",
    "BASE_PATH = os.path.join(\"datasets\", \"parte2\")"
   ]
  },
  {
   "cell_type": "markdown",
   "metadata": {},
   "source": [
    "**Criação do DataFrame**"
   ]
  },
  {
   "cell_type": "code",
   "execution_count": 2,
   "metadata": {},
   "outputs": [
    {
     "name": "stdout",
     "output_type": "stream",
     "text": [
      "Dimensões do DataFrame: (10, 40)\n"
     ]
    },
    {
     "data": {
      "text/html": [
       "<div>\n",
       "<style scoped>\n",
       "    .dataframe tbody tr th:only-of-type {\n",
       "        vertical-align: middle;\n",
       "    }\n",
       "\n",
       "    .dataframe tbody tr th {\n",
       "        vertical-align: top;\n",
       "    }\n",
       "\n",
       "    .dataframe thead th {\n",
       "        text-align: right;\n",
       "    }\n",
       "</style>\n",
       "<table border=\"1\" class=\"dataframe\">\n",
       "  <thead>\n",
       "    <tr style=\"text-align: right;\">\n",
       "      <th></th>\n",
       "      <th>s1</th>\n",
       "      <th>s2</th>\n",
       "      <th>s3</th>\n",
       "      <th>s4</th>\n",
       "      <th>s5</th>\n",
       "    </tr>\n",
       "  </thead>\n",
       "  <tbody>\n",
       "    <tr>\n",
       "      <th>0</th>\n",
       "      <td>1.pgm</td>\n",
       "      <td>1.pgm</td>\n",
       "      <td>1.pgm</td>\n",
       "      <td>1.pgm</td>\n",
       "      <td>1.pgm</td>\n",
       "    </tr>\n",
       "    <tr>\n",
       "      <th>1</th>\n",
       "      <td>2.pgm</td>\n",
       "      <td>2.pgm</td>\n",
       "      <td>2.pgm</td>\n",
       "      <td>2.pgm</td>\n",
       "      <td>2.pgm</td>\n",
       "    </tr>\n",
       "    <tr>\n",
       "      <th>2</th>\n",
       "      <td>3.pgm</td>\n",
       "      <td>3.pgm</td>\n",
       "      <td>3.pgm</td>\n",
       "      <td>3.pgm</td>\n",
       "      <td>3.pgm</td>\n",
       "    </tr>\n",
       "    <tr>\n",
       "      <th>3</th>\n",
       "      <td>4.pgm</td>\n",
       "      <td>4.pgm</td>\n",
       "      <td>4.pgm</td>\n",
       "      <td>4.pgm</td>\n",
       "      <td>4.pgm</td>\n",
       "    </tr>\n",
       "    <tr>\n",
       "      <th>4</th>\n",
       "      <td>5.pgm</td>\n",
       "      <td>5.pgm</td>\n",
       "      <td>5.pgm</td>\n",
       "      <td>5.pgm</td>\n",
       "      <td>5.pgm</td>\n",
       "    </tr>\n",
       "    <tr>\n",
       "      <th>5</th>\n",
       "      <td>6.pgm</td>\n",
       "      <td>6.pgm</td>\n",
       "      <td>6.pgm</td>\n",
       "      <td>6.pgm</td>\n",
       "      <td>6.pgm</td>\n",
       "    </tr>\n",
       "    <tr>\n",
       "      <th>6</th>\n",
       "      <td>7.pgm</td>\n",
       "      <td>7.pgm</td>\n",
       "      <td>7.pgm</td>\n",
       "      <td>7.pgm</td>\n",
       "      <td>7.pgm</td>\n",
       "    </tr>\n",
       "    <tr>\n",
       "      <th>7</th>\n",
       "      <td>8.pgm</td>\n",
       "      <td>8.pgm</td>\n",
       "      <td>8.pgm</td>\n",
       "      <td>8.pgm</td>\n",
       "      <td>8.pgm</td>\n",
       "    </tr>\n",
       "    <tr>\n",
       "      <th>8</th>\n",
       "      <td>9.pgm</td>\n",
       "      <td>9.pgm</td>\n",
       "      <td>9.pgm</td>\n",
       "      <td>9.pgm</td>\n",
       "      <td>9.pgm</td>\n",
       "    </tr>\n",
       "    <tr>\n",
       "      <th>9</th>\n",
       "      <td>10.pgm</td>\n",
       "      <td>10.pgm</td>\n",
       "      <td>10.pgm</td>\n",
       "      <td>10.pgm</td>\n",
       "      <td>10.pgm</td>\n",
       "    </tr>\n",
       "  </tbody>\n",
       "</table>\n",
       "</div>"
      ],
      "text/plain": [
       "       s1      s2      s3      s4      s5\n",
       "0   1.pgm   1.pgm   1.pgm   1.pgm   1.pgm\n",
       "1   2.pgm   2.pgm   2.pgm   2.pgm   2.pgm\n",
       "2   3.pgm   3.pgm   3.pgm   3.pgm   3.pgm\n",
       "3   4.pgm   4.pgm   4.pgm   4.pgm   4.pgm\n",
       "4   5.pgm   5.pgm   5.pgm   5.pgm   5.pgm\n",
       "5   6.pgm   6.pgm   6.pgm   6.pgm   6.pgm\n",
       "6   7.pgm   7.pgm   7.pgm   7.pgm   7.pgm\n",
       "7   8.pgm   8.pgm   8.pgm   8.pgm   8.pgm\n",
       "8   9.pgm   9.pgm   9.pgm   9.pgm   9.pgm\n",
       "9  10.pgm  10.pgm  10.pgm  10.pgm  10.pgm"
      ]
     },
     "execution_count": 2,
     "metadata": {},
     "output_type": "execute_result"
    }
   ],
   "source": [
    "faces_folders = sorted(\n",
    "    glob(os.path.join(BASE_PATH, \"orl_faces\", \"*\")),\n",
    "    key=lambda x: int(x.rsplit(\"s\", maxsplit=1)[1]),\n",
    ")\n",
    "\n",
    "faces_dict = {}\n",
    "for dir in faces_folders:\n",
    "    faces_dict[dir.rsplit(\"/\", maxsplit=1)[1]] = sorted(\n",
    "        os.listdir(dir), key=lambda x: int(x.split(\".\")[0])\n",
    "    )\n",
    "\n",
    "faces_df = pd.DataFrame(faces_dict)\n",
    "print(f\"Dimensões do DataFrame: {faces_df.shape}\")\n",
    "faces_df.iloc[:, :5]\n"
   ]
  },
  {
   "cell_type": "markdown",
   "metadata": {},
   "source": [
    "**Separando o DataFrame em Treino/Teste de maneira aleatória**"
   ]
  },
  {
   "cell_type": "code",
   "execution_count": 3,
   "metadata": {},
   "outputs": [],
   "source": [
    "shuffled_faces_df = faces_df.copy()\n",
    "random_state = 1\n",
    "\n",
    "for col in shuffled_faces_df.columns:\n",
    "    shuffled_faces_df.loc[:, col] = (\n",
    "        shuffled_faces_df.loc[:, col]\n",
    "        .sample(frac=1, random_state=random_state)\n",
    "        .to_numpy()\n",
    "    )\n",
    "    random_state += 1\n"
   ]
  },
  {
   "cell_type": "code",
   "execution_count": 4,
   "metadata": {},
   "outputs": [
    {
     "name": "stdout",
     "output_type": "stream",
     "text": [
      "Dimensões do DataFrame de Treino: (9, 40)\n"
     ]
    },
    {
     "data": {
      "text/html": [
       "<div>\n",
       "<style scoped>\n",
       "    .dataframe tbody tr th:only-of-type {\n",
       "        vertical-align: middle;\n",
       "    }\n",
       "\n",
       "    .dataframe tbody tr th {\n",
       "        vertical-align: top;\n",
       "    }\n",
       "\n",
       "    .dataframe thead th {\n",
       "        text-align: right;\n",
       "    }\n",
       "</style>\n",
       "<table border=\"1\" class=\"dataframe\">\n",
       "  <thead>\n",
       "    <tr style=\"text-align: right;\">\n",
       "      <th></th>\n",
       "      <th>s1</th>\n",
       "      <th>s2</th>\n",
       "      <th>s3</th>\n",
       "      <th>s4</th>\n",
       "      <th>s5</th>\n",
       "    </tr>\n",
       "  </thead>\n",
       "  <tbody>\n",
       "    <tr>\n",
       "      <th>0</th>\n",
       "      <td>3.pgm</td>\n",
       "      <td>5.pgm</td>\n",
       "      <td>6.pgm</td>\n",
       "      <td>4.pgm</td>\n",
       "      <td>10.pgm</td>\n",
       "    </tr>\n",
       "    <tr>\n",
       "      <th>1</th>\n",
       "      <td>10.pgm</td>\n",
       "      <td>2.pgm</td>\n",
       "      <td>5.pgm</td>\n",
       "      <td>9.pgm</td>\n",
       "      <td>6.pgm</td>\n",
       "    </tr>\n",
       "    <tr>\n",
       "      <th>2</th>\n",
       "      <td>7.pgm</td>\n",
       "      <td>6.pgm</td>\n",
       "      <td>2.pgm</td>\n",
       "      <td>5.pgm</td>\n",
       "      <td>3.pgm</td>\n",
       "    </tr>\n",
       "    <tr>\n",
       "      <th>3</th>\n",
       "      <td>5.pgm</td>\n",
       "      <td>1.pgm</td>\n",
       "      <td>3.pgm</td>\n",
       "      <td>10.pgm</td>\n",
       "      <td>5.pgm</td>\n",
       "    </tr>\n",
       "    <tr>\n",
       "      <th>4</th>\n",
       "      <td>1.pgm</td>\n",
       "      <td>8.pgm</td>\n",
       "      <td>10.pgm</td>\n",
       "      <td>3.pgm</td>\n",
       "      <td>8.pgm</td>\n",
       "    </tr>\n",
       "    <tr>\n",
       "      <th>5</th>\n",
       "      <td>4.pgm</td>\n",
       "      <td>3.pgm</td>\n",
       "      <td>7.pgm</td>\n",
       "      <td>7.pgm</td>\n",
       "      <td>2.pgm</td>\n",
       "    </tr>\n",
       "    <tr>\n",
       "      <th>6</th>\n",
       "      <td>2.pgm</td>\n",
       "      <td>4.pgm</td>\n",
       "      <td>8.pgm</td>\n",
       "      <td>1.pgm</td>\n",
       "      <td>1.pgm</td>\n",
       "    </tr>\n",
       "    <tr>\n",
       "      <th>7</th>\n",
       "      <td>8.pgm</td>\n",
       "      <td>7.pgm</td>\n",
       "      <td>1.pgm</td>\n",
       "      <td>2.pgm</td>\n",
       "      <td>9.pgm</td>\n",
       "    </tr>\n",
       "    <tr>\n",
       "      <th>8</th>\n",
       "      <td>9.pgm</td>\n",
       "      <td>10.pgm</td>\n",
       "      <td>4.pgm</td>\n",
       "      <td>6.pgm</td>\n",
       "      <td>7.pgm</td>\n",
       "    </tr>\n",
       "  </tbody>\n",
       "</table>\n",
       "</div>"
      ],
      "text/plain": [
       "       s1      s2      s3      s4      s5\n",
       "0   3.pgm   5.pgm   6.pgm   4.pgm  10.pgm\n",
       "1  10.pgm   2.pgm   5.pgm   9.pgm   6.pgm\n",
       "2   7.pgm   6.pgm   2.pgm   5.pgm   3.pgm\n",
       "3   5.pgm   1.pgm   3.pgm  10.pgm   5.pgm\n",
       "4   1.pgm   8.pgm  10.pgm   3.pgm   8.pgm\n",
       "5   4.pgm   3.pgm   7.pgm   7.pgm   2.pgm\n",
       "6   2.pgm   4.pgm   8.pgm   1.pgm   1.pgm\n",
       "7   8.pgm   7.pgm   1.pgm   2.pgm   9.pgm\n",
       "8   9.pgm  10.pgm   4.pgm   6.pgm   7.pgm"
      ]
     },
     "execution_count": 4,
     "metadata": {},
     "output_type": "execute_result"
    }
   ],
   "source": [
    "faces_df_train = shuffled_faces_df.iloc[:-1]\n",
    "print(f\"Dimensões do DataFrame de Treino: {faces_df_train.shape}\")\n",
    "faces_df_train.iloc[:, :5]"
   ]
  },
  {
   "cell_type": "code",
   "execution_count": 5,
   "metadata": {},
   "outputs": [
    {
     "name": "stdout",
     "output_type": "stream",
     "text": [
      "Dimensões do DataFrame de Teste: (1, 40)\n"
     ]
    },
    {
     "data": {
      "text/html": [
       "<div>\n",
       "<style scoped>\n",
       "    .dataframe tbody tr th:only-of-type {\n",
       "        vertical-align: middle;\n",
       "    }\n",
       "\n",
       "    .dataframe tbody tr th {\n",
       "        vertical-align: top;\n",
       "    }\n",
       "\n",
       "    .dataframe thead th {\n",
       "        text-align: right;\n",
       "    }\n",
       "</style>\n",
       "<table border=\"1\" class=\"dataframe\">\n",
       "  <thead>\n",
       "    <tr style=\"text-align: right;\">\n",
       "      <th></th>\n",
       "      <th>s1</th>\n",
       "      <th>s2</th>\n",
       "      <th>s3</th>\n",
       "      <th>s4</th>\n",
       "      <th>s5</th>\n",
       "    </tr>\n",
       "  </thead>\n",
       "  <tbody>\n",
       "    <tr>\n",
       "      <th>9</th>\n",
       "      <td>6.pgm</td>\n",
       "      <td>9.pgm</td>\n",
       "      <td>9.pgm</td>\n",
       "      <td>8.pgm</td>\n",
       "      <td>4.pgm</td>\n",
       "    </tr>\n",
       "  </tbody>\n",
       "</table>\n",
       "</div>"
      ],
      "text/plain": [
       "      s1     s2     s3     s4     s5\n",
       "9  6.pgm  9.pgm  9.pgm  8.pgm  4.pgm"
      ]
     },
     "execution_count": 5,
     "metadata": {},
     "output_type": "execute_result"
    }
   ],
   "source": [
    "faces_df_test = shuffled_faces_df.iloc[-1:]\n",
    "print(f\"Dimensões do DataFrame de Teste: {faces_df_test.shape}\")\n",
    "faces_df_test.iloc[:, :5]"
   ]
  },
  {
   "cell_type": "markdown",
   "metadata": {},
   "source": [
    "**Treinamento**"
   ]
  },
  {
   "cell_type": "code",
   "execution_count": 6,
   "metadata": {},
   "outputs": [
    {
     "name": "stderr",
     "output_type": "stream",
     "text": [
      "Realizando o treinamento do modelo...: 100%|██████████| 8/8 [00:20<00:00,  2.53s/it]\n"
     ]
    }
   ],
   "source": [
    "tempo_de_treinamento = {k: 0 for k in range(9, 17)}\n",
    "\n",
    "for k in tqdm(range(9, 17), \"Realizando o treinamento do modelo...\"):\n",
    "    start = time.time()\n",
    "\n",
    "    for col in faces_df_train.columns:\n",
    "        category_dict = {}\n",
    "\n",
    "        for image in faces_df_train.loc[:, col]:\n",
    "            category_dict = compress(\n",
    "                file_path=os.path.join(BASE_PATH, \"orl_faces\", col, image),\n",
    "                k=k,\n",
    "                dictionary=category_dict,\n",
    "                is_training=True,\n",
    "                is_PGM=True,\n",
    "            )\n",
    "\n",
    "        dict_path = os.path.join(BASE_PATH, \"dicts\", str(k))\n",
    "        if not os.path.exists(dict_path):\n",
    "            os.makedirs(dict_path)\n",
    "\n",
    "        with open(os.path.join(dict_path, f\"{col}_dict.pkl\"), \"wb\") as pkl_file:\n",
    "            pickle.dump(category_dict, pkl_file, pickle.HIGHEST_PROTOCOL)\n",
    "\n",
    "    tempo_de_treinamento[k] = time.time() - start\n",
    "\n",
    "with open(os.path.join(BASE_PATH, \"tempo_de_treinamento.pkl\"), \"wb\") as pkl_file:\n",
    "    pickle.dump(tempo_de_treinamento, pkl_file, pickle.HIGHEST_PROTOCOL)\n"
   ]
  },
  {
   "cell_type": "markdown",
   "metadata": {},
   "source": [
    "**Compressão das Imagens de Teste com base nos dicionários gerados no treinamento**"
   ]
  },
  {
   "cell_type": "code",
   "execution_count": 7,
   "metadata": {},
   "outputs": [
    {
     "name": "stderr",
     "output_type": "stream",
     "text": [
      "Realizando o treinamento do modelo...: 100%|██████████| 8/8 [03:37<00:00, 27.17s/it]\n"
     ]
    }
   ],
   "source": [
    "for k in tqdm(range(9, 17), \"Realizando o treinamento do modelo...\"):\n",
    "    for idx, image_col in enumerate(faces_df_test.columns):\n",
    "        image = faces_df_test.iat[0, idx]\n",
    "        \n",
    "        for dict_col in faces_df_test.columns:\n",
    "            with open(\n",
    "                os.path.join(BASE_PATH, \"dicts\", str(k), f\"{dict_col}_dict.pkl\"), \"rb\"\n",
    "            ) as dict_file:\n",
    "                category_dict = pickle.load(dict_file)\n",
    "            \n",
    "            compress(\n",
    "                file_path=os.path.join(BASE_PATH, \"orl_faces\", image_col, image),\n",
    "                k=k,\n",
    "                dictionary=category_dict,\n",
    "                out_path=os.path.join(\n",
    "                    BASE_PATH,\n",
    "                    \"test_images\",\n",
    "                    image_col,\n",
    "                    str(k),\n",
    "                    f\"{dict_col}_dict\",\n",
    "                    f\"{image.split('.')[0]}_compressed.pgm\",\n",
    "                ),\n",
    "                is_testing=True,\n",
    "                is_PGM=True,\n",
    "            )\n"
   ]
  },
  {
   "cell_type": "markdown",
   "metadata": {},
   "source": [
    "**Aplicando o KNN para cada K do LZW**"
   ]
  },
  {
   "cell_type": "code",
   "execution_count": 19,
   "metadata": {},
   "outputs": [],
   "source": [
    "MAX_IMAGE_SIZE = 999999999\n",
    "y_true = faces_df_test.columns\n",
    "accuracies = []\n",
    "\n",
    "for k in range(9,17):\n",
    "    y_pred = []\n",
    "    \n",
    "    for idx, col in enumerate(faces_df_test.columns):\n",
    "        min_image_size = MAX_IMAGE_SIZE\n",
    "        max_compression_dict = None\n",
    "\n",
    "        test_image = faces_df_test.iat[0, idx]\n",
    "        training_dicts = sorted(\n",
    "            os.listdir(os.path.join(BASE_PATH, \"test_images\", col, str(k))),\n",
    "            key= lambda x: int(x.split(\"s\")[1].split(\"_\")[0])\n",
    "        )\n",
    "\n",
    "        for training_dict in training_dicts:\n",
    "            compressed_image_size = os.path.getsize(\n",
    "                os.path.join(\n",
    "                    BASE_PATH,\n",
    "                    \"test_images\",\n",
    "                    col,\n",
    "                    str(k),\n",
    "                    training_dict,\n",
    "                    f\"{test_image.split('.')[0]}_compressed.pgm\",\n",
    "                )\n",
    "            )\n",
    "\n",
    "            if compressed_image_size < min_image_size:\n",
    "                min_image_size = compressed_image_size\n",
    "                max_compression_dict = training_dict.split(\"_\")[0]\n",
    "\n",
    "        y_pred.append(max_compression_dict)\n",
    "\n",
    "    accuracies.append(accuracy_score(y_true, y_pred))\n"
   ]
  },
  {
   "cell_type": "markdown",
   "metadata": {},
   "source": [
    "**Tempo x K**"
   ]
  },
  {
   "cell_type": "code",
   "execution_count": 17,
   "metadata": {},
   "outputs": [
    {
     "data": {
      "text/plain": [
       "[<matplotlib.lines.Line2D at 0x7f0c9026fc10>]"
      ]
     },
     "execution_count": 17,
     "metadata": {},
     "output_type": "execute_result"
    },
    {
     "data": {
      "image/png": "[encoded data removed]",
      "text/plain": [
       "<Figure size 432x288 with 1 Axes>"
      ]
     },
     "metadata": {
      "needs_background": "light"
     },
     "output_type": "display_data"
    }
   ],
   "source": [
    "with open(os.path.join(BASE_PATH, \"tempo_de_treinamento.pkl\"), \"rb\") as dict_file:\n",
    "    tempo_de_treinamento = pickle.load(dict_file)\n",
    "    \n",
    "plt.plot(tempo_de_treinamento.keys(), tempo_de_treinamento.values())"
   ]
  },
  {
   "cell_type": "markdown",
   "metadata": {},
   "source": [
    "**Acurácia x K**"
   ]
  },
  {
   "cell_type": "code",
   "execution_count": 20,
   "metadata": {},
   "outputs": [
    {
     "data": {
      "text/plain": [
       "[<matplotlib.lines.Line2D at 0x7f0c8b9b6e50>]"
      ]
     },
     "execution_count": 20,
     "metadata": {},
     "output_type": "execute_result"
    },
    {
     "data": {
      "image/png": "[encoded data removed]",
      "text/plain": [
       "<Figure size 432x288 with 1 Axes>"
      ]
     },
     "metadata": {
      "needs_background": "light"
     },
     "output_type": "display_data"
    }
   ],
   "source": [
    "plt.plot(list(range(9,17)), accuracies)"
   ]
  },
  {
   "cell_type": "code",
   "execution_count": null,
   "metadata": {},
   "outputs": [],
   "source": []
  }
 ],
 "metadata": {
  "kernelspec": {
   "display_name": "Python 3.9.12 ('base')",
   "language": "python",
   "name": "python3"
  },
  "language_info": {
   "codemirror_mode": {
    "name": "ipython",
    "version": 3
   },
   "file_extension": ".py",
   "mimetype": "text/x-python",
   "name": "python",
   "nbconvert_exporter": "python",
   "pygments_lexer": "ipython3",
   "version": "3.9.12"
  },
  "orig_nbformat": 4,
  "vscode": {
   "interpreter": {
    "hash": "3c18da20efb11c05561574d426d8ca0ef55854265c547218c140a1a5aaf51fed"
   }
  }
 },
 "nbformat": 4,
 "nbformat_minor": 2
}
